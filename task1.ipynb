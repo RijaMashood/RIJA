{
 "cells": [
  {
   "cell_type": "code",
   "execution_count": 7,
   "metadata": {},
   "outputs": [
    {
     "name": "stdout",
     "output_type": "stream",
     "text": [
      "\n",
      " ======>Task  No: 1<========\n",
      "\n",
      "Twinkle,  twinkle,  little  star,\n",
      "How  I  Wonder  What You  are !\n",
      "Up above the world so high, \n",
      "Like a diamond in the sky.\n",
      "Twinkle,  twinkle,  little  star,\n",
      " How  I  Wonder  What You  are  \n"
     ]
    }
   ],
   "source": [
    "\n",
    "#Task 1\n",
    "print(\"\\n ======>Task  No: 1<========\\n\")\n",
    "print(\"Twinkle,  twinkle,  little  star,\\nHow  I  Wonder  What You  are !\\nUp above the world so high, \\nLike a diamond in the sky.\\nTwinkle,  twinkle,  little  star,\\n How  I  Wonder  What You  are  \")\n",
    "\n"
   ]
  },
  {
   "cell_type": "code",
   "execution_count": null,
   "metadata": {},
   "outputs": [],
   "source": []
  },
  {
   "cell_type": "code",
   "execution_count": null,
   "metadata": {},
   "outputs": [],
   "source": []
  },
  {
   "cell_type": "code",
   "execution_count": null,
   "metadata": {},
   "outputs": [],
   "source": []
  }
 ],
 "metadata": {
  "kernelspec": {
   "display_name": "Python 3",
   "language": "python",
   "name": "python3"
  },
  "language_info": {
   "codemirror_mode": {
    "name": "ipython",
    "version": 3
   },
   "file_extension": ".py",
   "mimetype": "text/x-python",
   "name": "python",
   "nbconvert_exporter": "python",
   "pygments_lexer": "ipython3",
   "version": "3.7.4"
  }
 },
 "nbformat": 4,
 "nbformat_minor": 2
}
