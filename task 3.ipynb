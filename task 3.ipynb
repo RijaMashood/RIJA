{
 "cells": [
  {
   "cell_type": "code",
   "execution_count": 1,
   "metadata": {},
   "outputs": [
    {
     "name": "stdout",
     "output_type": "stream",
     "text": [
      "\n",
      " Task  No: 3\n",
      "Enter The First Name :Rija \n",
      "Enter The Last Name :Riaz\n",
      "The User Name is  :  Rija  Riaz\n",
      "The User Name in Reverse Order:  zaiR  ajiR\n"
     ]
    }
   ],
   "source": [
    "#Task 3\n",
    "print(\"\\n Task  No: 3\")\n",
    "First_Name=input(\"Enter The First Name :\")\n",
    "Last_Name=input(\"Enter The Last Name :\")\n",
    "Full_Name=First_Name+\" \"+Last_Name\n",
    "print(\"The User Name is  : \",Full_Name)\n",
    "print(\"The User Name in Reverse Order: \",Full_Name[::-1])"
   ]
  },
  {
   "cell_type": "code",
   "execution_count": null,
   "metadata": {},
   "outputs": [],
   "source": []
  },
  {
   "cell_type": "code",
   "execution_count": null,
   "metadata": {},
   "outputs": [],
   "source": []
  }
 ],
 "metadata": {
  "kernelspec": {
   "display_name": "Python 3",
   "language": "python",
   "name": "python3"
  },
  "language_info": {
   "codemirror_mode": {
    "name": "ipython",
    "version": 3
   },
   "file_extension": ".py",
   "mimetype": "text/x-python",
   "name": "python",
   "nbconvert_exporter": "python",
   "pygments_lexer": "ipython3",
   "version": "3.7.4"
  }
 },
 "nbformat": 4,
 "nbformat_minor": 2
}
