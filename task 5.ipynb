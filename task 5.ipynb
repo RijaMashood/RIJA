{
 "cells": [
  {
   "cell_type": "code",
   "execution_count": 2,
   "metadata": {},
   "outputs": [
    {
     "name": "stdout",
     "output_type": "stream",
     "text": [
      "Enter Student Name :Muhammad Zubair Minhas\n",
      "Enter Math Marks :59\n",
      "Enter Urdu Marks :89\n",
      "Enter Computer Marks :66\n",
      "Enter Python Marks :78\n",
      "Enter English Marks :90\n",
      "\n",
      "********************Marksheet of Muhammad Zubair Minhas********************\n",
      "\n",
      "\t\tMath Mark :59\n",
      "\t\tUrdu Mark :89\n",
      "\t\tComputer Mark :66\n",
      "\t\tPython Mark :78\n",
      "\t\tEnglish Mark :90\n",
      "\t\tTotal Marks :  500\n",
      "\t\tObtainted Marks : 382\n",
      "\t\tPercentage : 76.4\n",
      "\t\t PASS \n",
      "\t\tGrade :A \n"
     ]
    }
   ],
   "source": [
    "name = input(\"Enter Student Name :\")\n",
    "a1 = int(input(\"Enter Math Marks :\"))\n",
    "a2 = int(input(\"Enter Urdu Marks :\"))\n",
    "a3 = int(input(\"Enter Computer Marks :\"))\n",
    "a4 = int(input(\"Enter Python Marks :\"))\n",
    "a5 = int(input(\"Enter English Marks :\"))\n",
    "tmark = 500\n",
    "tsum = a1+a2+a3+a4+a5\n",
    "per = (tsum*100/tmark)\n",
    "\n",
    "print(f\"\\n********************Marksheet of {name}********************\\n\")\n",
    "print(f\"\\t\\tMath Mark :{a1}\\n\\t\\tUrdu Mark :{a2}\\n\\t\\tComputer Mark :{a3}\\n\\t\\tPython Mark :{a4}\\n\\t\\tEnglish Mark :{a5}\")\n",
    "print(\"\\t\\tTotal Marks :  500\")\n",
    "print(f\"\\t\\tObtainted Marks : {tsum}\")\n",
    "print(f\"\\t\\tPercentage : {per}\")\n",
    "\n",
    "if(per>80):\n",
    "    print(\"\\t\\t PASS \")\n",
    "    print(\"\\t\\tGrade :A +\")\n",
    "\n",
    "elif(per<80 and per >70):\n",
    "    print(\"\\t\\t PASS \")\n",
    "    print(\"\\t\\tGrade :A \")\n",
    "\n",
    "elif(per<70 and per >60):\n",
    "    print(\"\\t\\t PASS \")\n",
    "    print(\"\\t\\tGrade :B+ \")\n",
    "\n",
    "elif(per<70 and per >60):\n",
    "    print(\"\\t\\t PASS \")\n",
    "    print(\"\\t\\tGrade :B \")\n",
    "\n",
    "elif(per<60 and per >50):\n",
    "    print(\"\\t\\t PASS \")\n",
    "    print(\"\\t\\tGrade :C \")\n",
    "\n",
    "elif(per<50 and per >40):\n",
    "    print(\"\\t\\t PASS \")\n",
    "    print(\"\\t\\tGrade :D\")\n",
    "\n",
    "else:\n",
    "    print(\"\\t\\t FAIL \")"
   ]
  },
  {
   "cell_type": "code",
   "execution_count": null,
   "metadata": {},
   "outputs": [],
   "source": []
  }
 ],
 "metadata": {
  "kernelspec": {
   "display_name": "Python 3",
   "language": "python",
   "name": "python3"
  },
  "language_info": {
   "codemirror_mode": {
    "name": "ipython",
    "version": 3
   },
   "file_extension": ".py",
   "mimetype": "text/x-python",
   "name": "python",
   "nbconvert_exporter": "python",
   "pygments_lexer": "ipython3",
   "version": "3.7.4"
  }
 },
 "nbformat": 4,
 "nbformat_minor": 2
}
