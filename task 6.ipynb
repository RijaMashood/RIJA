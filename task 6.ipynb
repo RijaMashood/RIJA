{
 "cells": [
  {
   "cell_type": "code",
   "execution_count": 1,
   "metadata": {},
   "outputs": [
    {
     "name": "stdout",
     "output_type": "stream",
     "text": [
      "Task 6\n",
      "Enter Number To Check Even Or Odd :4\n",
      "Enter Number 4 Is Even Number\n"
     ]
    }
   ],
   "source": [
    "print(\"Task 6\")\n",
    "num=int(input(\"Enter Number To Check Even Or Odd :\"))\n",
    "if num %2==0:\n",
    "    print(f\"Enter Number {num} Is Even Number\")\n",
    "else:\n",
    "    print(f\"Enter Number {num} Is Odd Number\")\n",
    "    "
   ]
  },
  {
   "cell_type": "code",
   "execution_count": 2,
   "metadata": {},
   "outputs": [
    {
     "name": "stdout",
     "output_type": "stream",
     "text": [
      "Task 6\n",
      "Enter Number To Check Even Or Odd :12\n",
      "Enter Number 12 Is Even Number\n"
     ]
    }
   ],
   "source": [
    "print(\"Task 6\")\n",
    "num=int(input(\"Enter Number To Check Even Or Odd :\"))\n",
    "if num %2==0:\n",
    "    print(f\"Enter Number {num} Is Even Number\")\n",
    "else:\n",
    "    print(f\"Enter Number {num} Is Odd Number\")"
   ]
  },
  {
   "cell_type": "code",
   "execution_count": 3,
   "metadata": {},
   "outputs": [
    {
     "name": "stdout",
     "output_type": "stream",
     "text": [
      "Task 6\n",
      "Enter Number To Check Even Or Odd :5\n",
      "Enter Number 5 Is Odd Number\n"
     ]
    }
   ],
   "source": [
    "print(\"Task 6\")\n",
    "num=int(input(\"Enter Number To Check Even Or Odd :\"))\n",
    "if num %2==0:\n",
    "    print(f\"Enter Number {num} Is Even Number\")\n",
    "else:\n",
    "    print(f\"Enter Number {num} Is Odd Number\")"
   ]
  },
  {
   "cell_type": "code",
   "execution_count": null,
   "metadata": {},
   "outputs": [],
   "source": []
  }
 ],
 "metadata": {
  "kernelspec": {
   "display_name": "Python 3",
   "language": "python",
   "name": "python3"
  },
  "language_info": {
   "codemirror_mode": {
    "name": "ipython",
    "version": 3
   },
   "file_extension": ".py",
   "mimetype": "text/x-python",
   "name": "python",
   "nbconvert_exporter": "python",
   "pygments_lexer": "ipython3",
   "version": "3.7.4"
  }
 },
 "nbformat": 4,
 "nbformat_minor": 2
}
